{
 "cells": [
  {
   "cell_type": "markdown",
   "id": "d86cec27",
   "metadata": {},
   "source": [
    "# import lib"
   ]
  },
  {
   "cell_type": "code",
   "execution_count": 18,
   "id": "04baf2eb",
   "metadata": {},
   "outputs": [],
   "source": [
    "import pandas\n",
    "import psycopg2\n",
    "import configparser"
   ]
  },
  {
   "cell_type": "markdown",
   "id": "8fdd8662",
   "metadata": {},
   "source": [
    "# connect to db"
   ]
  },
  {
   "cell_type": "code",
   "execution_count": 19,
   "id": "e785e3fa",
   "metadata": {},
   "outputs": [],
   "source": [
    "config = configparser.ConfigParser()\n",
    "config.read('config.ini')\n",
    "\n",
    "host=config['myaws']['host']\n",
    "db=config['myaws']['db']\n",
    "user=config['myaws']['user']\n",
    "pwd = config['myaws']['pwd']\n",
    "\n",
    "conn = psycopg2.connect(  host=host,\n",
    "                       user=user,\n",
    "                       password = pwd,\n",
    "                       dbname=db)"
   ]
  },
  {
   "cell_type": "code",
   "execution_count": 20,
   "id": "d63027f0",
   "metadata": {},
   "outputs": [],
   "source": [
    "cur=conn.cursor()"
   ]
  },
  {
   "cell_type": "markdown",
   "id": "30461380",
   "metadata": {},
   "source": [
    "# q1"
   ]
  },
  {
   "cell_type": "code",
   "execution_count": 207,
   "id": "8cb6f8e6",
   "metadata": {},
   "outputs": [],
   "source": [
    "q1_sql = \"\"\"\n",
    "        select * from gp29.student\n",
    "        \"\"\""
   ]
  },
  {
   "cell_type": "code",
   "execution_count": 208,
   "id": "9b4c6044",
   "metadata": {},
   "outputs": [],
   "source": [
    "cur.execute(q1_sql)"
   ]
  },
  {
   "cell_type": "code",
   "execution_count": 209,
   "id": "6fe3c158",
   "metadata": {},
   "outputs": [],
   "source": [
    "conn.commit()"
   ]
  },
  {
   "cell_type": "code",
   "execution_count": 210,
   "id": "4a36dc91",
   "metadata": {},
   "outputs": [
    {
     "data": {
      "text/html": [
       "<div>\n",
       "<style scoped>\n",
       "    .dataframe tbody tr th:only-of-type {\n",
       "        vertical-align: middle;\n",
       "    }\n",
       "\n",
       "    .dataframe tbody tr th {\n",
       "        vertical-align: top;\n",
       "    }\n",
       "\n",
       "    .dataframe thead th {\n",
       "        text-align: right;\n",
       "    }\n",
       "</style>\n",
       "<table border=\"1\" class=\"dataframe\">\n",
       "  <thead>\n",
       "    <tr style=\"text-align: right;\">\n",
       "      <th></th>\n",
       "      <th>s_email</th>\n",
       "      <th>s_name</th>\n",
       "      <th>s_major</th>\n",
       "    </tr>\n",
       "  </thead>\n",
       "  <tbody>\n",
       "    <tr>\n",
       "      <th>0</th>\n",
       "      <td>abc@jmu.edu</td>\n",
       "      <td>abc</td>\n",
       "      <td>analysis</td>\n",
       "    </tr>\n",
       "    <tr>\n",
       "      <th>1</th>\n",
       "      <td>def@jmu.edu</td>\n",
       "      <td>def</td>\n",
       "      <td>biology</td>\n",
       "    </tr>\n",
       "    <tr>\n",
       "      <th>2</th>\n",
       "      <td>ghi@jmu.edu</td>\n",
       "      <td>ghi</td>\n",
       "      <td>chemistry</td>\n",
       "    </tr>\n",
       "    <tr>\n",
       "      <th>3</th>\n",
       "      <td>jkl@jmu.edu</td>\n",
       "      <td>jkl</td>\n",
       "      <td>english</td>\n",
       "    </tr>\n",
       "  </tbody>\n",
       "</table>\n",
       "</div>"
      ],
      "text/plain": [
       "       s_email s_name    s_major\n",
       "0  abc@jmu.edu    abc   analysis\n",
       "1  def@jmu.edu    def    biology\n",
       "2  ghi@jmu.edu    ghi  chemistry\n",
       "3  jkl@jmu.edu    jkl    english"
      ]
     },
     "execution_count": 210,
     "metadata": {},
     "output_type": "execute_result"
    }
   ],
   "source": [
    "df = pandas.read_sql_query(q1_sql,conn)\n",
    "df[:]"
   ]
  },
  {
   "cell_type": "markdown",
   "id": "0549103b",
   "metadata": {},
   "source": [
    "# q2"
   ]
  },
  {
   "cell_type": "code",
   "execution_count": 201,
   "id": "c4da880f",
   "metadata": {},
   "outputs": [],
   "source": [
    "q2_sql= \"\"\"\n",
    "                select gp29.professor.p_name, gp29.course.c_name\n",
    "                from gp29.professor\n",
    "                inner join gp29.course\n",
    "                on gp29.professor.p_email = gp29.course.p_email\n",
    "                \"\"\""
   ]
  },
  {
   "cell_type": "code",
   "execution_count": 202,
   "id": "f93e0e48",
   "metadata": {},
   "outputs": [],
   "source": [
    "cur.execute(q2_sql)"
   ]
  },
  {
   "cell_type": "code",
   "execution_count": 203,
   "id": "b153c6d9",
   "metadata": {},
   "outputs": [],
   "source": [
    "conn.commit()"
   ]
  },
  {
   "cell_type": "code",
   "execution_count": 204,
   "id": "13359ab8",
   "metadata": {},
   "outputs": [
    {
     "data": {
      "text/html": [
       "<div>\n",
       "<style scoped>\n",
       "    .dataframe tbody tr th:only-of-type {\n",
       "        vertical-align: middle;\n",
       "    }\n",
       "\n",
       "    .dataframe tbody tr th {\n",
       "        vertical-align: top;\n",
       "    }\n",
       "\n",
       "    .dataframe thead th {\n",
       "        text-align: right;\n",
       "    }\n",
       "</style>\n",
       "<table border=\"1\" class=\"dataframe\">\n",
       "  <thead>\n",
       "    <tr style=\"text-align: right;\">\n",
       "      <th></th>\n",
       "      <th>p_name</th>\n",
       "      <th>c_name</th>\n",
       "    </tr>\n",
       "  </thead>\n",
       "  <tbody>\n",
       "    <tr>\n",
       "      <th>0</th>\n",
       "      <td>orthandrew danzell</td>\n",
       "      <td>national_security</td>\n",
       "    </tr>\n",
       "    <tr>\n",
       "      <th>1</th>\n",
       "      <td>noel hendrickson\\n</td>\n",
       "      <td>analysis</td>\n",
       "    </tr>\n",
       "    <tr>\n",
       "      <th>2</th>\n",
       "      <td>timothy walton</td>\n",
       "      <td>terrorism</td>\n",
       "    </tr>\n",
       "    <tr>\n",
       "      <th>3</th>\n",
       "      <td>stephen marrin</td>\n",
       "      <td>class</td>\n",
       "    </tr>\n",
       "    <tr>\n",
       "      <th>4</th>\n",
       "      <td>stephen marrin</td>\n",
       "      <td>data mining</td>\n",
       "    </tr>\n",
       "    <tr>\n",
       "      <th>5</th>\n",
       "      <td>new</td>\n",
       "      <td>new_class</td>\n",
       "    </tr>\n",
       "    <tr>\n",
       "      <th>6</th>\n",
       "      <td>new</td>\n",
       "      <td>new_class</td>\n",
       "    </tr>\n",
       "  </tbody>\n",
       "</table>\n",
       "</div>"
      ],
      "text/plain": [
       "               p_name             c_name\n",
       "0  orthandrew danzell  national_security\n",
       "1  noel hendrickson\\n           analysis\n",
       "2      timothy walton          terrorism\n",
       "3      stephen marrin              class\n",
       "4      stephen marrin        data mining\n",
       "5                 new          new_class\n",
       "6                 new          new_class"
      ]
     },
     "execution_count": 204,
     "metadata": {},
     "output_type": "execute_result"
    }
   ],
   "source": [
    "df = pandas.read_sql_query(q2_sql,conn)\n",
    "df[:]"
   ]
  },
  {
   "cell_type": "markdown",
   "id": "167e64ba",
   "metadata": {},
   "source": [
    "# q3"
   ]
  },
  {
   "cell_type": "code",
   "execution_count": 205,
   "id": "47bab6ef",
   "metadata": {},
   "outputs": [],
   "source": [
    "q3_sql= \"\"\"\n",
    "               select c_number, count (*) as num_enrolled\n",
    "               from gp29.enroll_list\n",
    "               group by c_number\n",
    "               order by num_enrolled desc\n",
    "                \"\"\""
   ]
  },
  {
   "cell_type": "code",
   "execution_count": 206,
   "id": "2fba6de2",
   "metadata": {},
   "outputs": [],
   "source": [
    "cur.execute(q3_sql)"
   ]
  },
  {
   "cell_type": "code",
   "execution_count": 198,
   "id": "d8588a50",
   "metadata": {},
   "outputs": [],
   "source": [
    "conn.commit()"
   ]
  },
  {
   "cell_type": "code",
   "execution_count": 199,
   "id": "100fe335",
   "metadata": {},
   "outputs": [
    {
     "data": {
      "text/html": [
       "<div>\n",
       "<style scoped>\n",
       "    .dataframe tbody tr th:only-of-type {\n",
       "        vertical-align: middle;\n",
       "    }\n",
       "\n",
       "    .dataframe tbody tr th {\n",
       "        vertical-align: top;\n",
       "    }\n",
       "\n",
       "    .dataframe thead th {\n",
       "        text-align: right;\n",
       "    }\n",
       "</style>\n",
       "<table border=\"1\" class=\"dataframe\">\n",
       "  <thead>\n",
       "    <tr style=\"text-align: right;\">\n",
       "      <th></th>\n",
       "      <th>c_number</th>\n",
       "      <th>num_enrolled</th>\n",
       "    </tr>\n",
       "  </thead>\n",
       "  <tbody>\n",
       "    <tr>\n",
       "      <th>0</th>\n",
       "      <td>111</td>\n",
       "      <td>3</td>\n",
       "    </tr>\n",
       "    <tr>\n",
       "      <th>1</th>\n",
       "      <td>333</td>\n",
       "      <td>3</td>\n",
       "    </tr>\n",
       "    <tr>\n",
       "      <th>2</th>\n",
       "      <td>444</td>\n",
       "      <td>2</td>\n",
       "    </tr>\n",
       "    <tr>\n",
       "      <th>3</th>\n",
       "      <td>222</td>\n",
       "      <td>2</td>\n",
       "    </tr>\n",
       "  </tbody>\n",
       "</table>\n",
       "</div>"
      ],
      "text/plain": [
       "  c_number  num_enrolled\n",
       "0      111             3\n",
       "1      333             3\n",
       "2      444             2\n",
       "3      222             2"
      ]
     },
     "execution_count": 199,
     "metadata": {},
     "output_type": "execute_result"
    }
   ],
   "source": [
    "df = pandas.read_sql_query(q3_sql,conn)\n",
    "df[:]"
   ]
  },
  {
   "cell_type": "code",
   "execution_count": 200,
   "id": "4a9cd21a",
   "metadata": {},
   "outputs": [
    {
     "data": {
      "text/plain": [
       "<AxesSubplot:>"
      ]
     },
     "execution_count": 200,
     "metadata": {},
     "output_type": "execute_result"
    },
    {
     "data": {
      "image/png": "[encoded data removed]",
      "text/plain": [
       "<Figure size 432x288 with 1 Axes>"
      ]
     },
     "metadata": {
      "needs_background": "light"
     },
     "output_type": "display_data"
    }
   ],
   "source": [
    "df.num_enrolled.plot.bar(x='c_number',y='num_enrolled')"
   ]
  },
  {
   "cell_type": "markdown",
   "id": "7e0ff70f",
   "metadata": {},
   "source": [
    "# q4"
   ]
  },
  {
   "cell_type": "code",
   "execution_count": 49,
   "id": "94530c7f",
   "metadata": {},
   "outputs": [],
   "source": [
    "q4_sql= \"\"\"\n",
    "              select gp29.professor.p_name,\n",
    "                  count (*) as num_teaching\n",
    "              from gp29.professor\n",
    "              inner join gp29.course\n",
    "              on gp29.professor.p_email = gp29.course.p_email\n",
    "              group by gp29.professor.p_name\n",
    "              order by num_teaching desc\n",
    "                  \n",
    "                \"\"\""
   ]
  },
  {
   "cell_type": "code",
   "execution_count": 193,
   "id": "d4ee4c57",
   "metadata": {},
   "outputs": [],
   "source": [
    "cur.execute(q4_sql)"
   ]
  },
  {
   "cell_type": "code",
   "execution_count": 194,
   "id": "15e16b29",
   "metadata": {},
   "outputs": [],
   "source": [
    "conn.commit()"
   ]
  },
  {
   "cell_type": "code",
   "execution_count": 195,
   "id": "bc5b5ead",
   "metadata": {},
   "outputs": [
    {
     "data": {
      "text/html": [
       "<div>\n",
       "<style scoped>\n",
       "    .dataframe tbody tr th:only-of-type {\n",
       "        vertical-align: middle;\n",
       "    }\n",
       "\n",
       "    .dataframe tbody tr th {\n",
       "        vertical-align: top;\n",
       "    }\n",
       "\n",
       "    .dataframe thead th {\n",
       "        text-align: right;\n",
       "    }\n",
       "</style>\n",
       "<table border=\"1\" class=\"dataframe\">\n",
       "  <thead>\n",
       "    <tr style=\"text-align: right;\">\n",
       "      <th></th>\n",
       "      <th>p_name</th>\n",
       "      <th>num_teaching</th>\n",
       "    </tr>\n",
       "  </thead>\n",
       "  <tbody>\n",
       "    <tr>\n",
       "      <th>0</th>\n",
       "      <td>stephen marrin</td>\n",
       "      <td>2</td>\n",
       "    </tr>\n",
       "    <tr>\n",
       "      <th>1</th>\n",
       "      <td>new</td>\n",
       "      <td>2</td>\n",
       "    </tr>\n",
       "    <tr>\n",
       "      <th>2</th>\n",
       "      <td>timothy walton</td>\n",
       "      <td>1</td>\n",
       "    </tr>\n",
       "    <tr>\n",
       "      <th>3</th>\n",
       "      <td>orthandrew danzell</td>\n",
       "      <td>1</td>\n",
       "    </tr>\n",
       "    <tr>\n",
       "      <th>4</th>\n",
       "      <td>noel hendrickson\\n</td>\n",
       "      <td>1</td>\n",
       "    </tr>\n",
       "  </tbody>\n",
       "</table>\n",
       "</div>"
      ],
      "text/plain": [
       "               p_name  num_teaching\n",
       "0      stephen marrin             2\n",
       "1                 new             2\n",
       "2      timothy walton             1\n",
       "3  orthandrew danzell             1\n",
       "4  noel hendrickson\\n             1"
      ]
     },
     "execution_count": 195,
     "metadata": {},
     "output_type": "execute_result"
    }
   ],
   "source": [
    "df = pandas.read_sql_query(q4_sql,conn)\n",
    "df[:]"
   ]
  },
  {
   "cell_type": "code",
   "execution_count": 196,
   "id": "5024e629",
   "metadata": {},
   "outputs": [
    {
     "data": {
      "text/plain": [
       "<AxesSubplot:>"
      ]
     },
     "execution_count": 196,
     "metadata": {},
     "output_type": "execute_result"
    },
    {
     "data": {
      "image/png": "[encoded data removed]",
      "text/plain": [
       "<Figure size 432x288 with 1 Axes>"
      ]
     },
     "metadata": {
      "needs_background": "light"
     },
     "output_type": "display_data"
    }
   ],
   "source": [
    "df.num_teaching.plot.bar(x='p_name',y='num_teaching')"
   ]
  },
  {
   "cell_type": "markdown",
   "id": "7612272e",
   "metadata": {},
   "source": [
    "# q5"
   ]
  },
  {
   "cell_type": "code",
   "execution_count": 275,
   "id": "4029ef5a",
   "metadata": {
    "scrolled": false
   },
   "outputs": [
    {
     "name": "stdout",
     "output_type": "stream",
     "text": [
      "\n",
      "            insert into gp29.professor(p_email,p_name,p_office)\n",
      "            values ('new4@jmu.edu','new','9')  \n",
      "                  \n",
      "                \n"
     ]
    }
   ],
   "source": [
    "q5_sql= \"\"\"\n",
    "            insert into gp29.professor(p_email,p_name,p_office)\n",
    "            values ('{}','{}','{}')  \n",
    "                  \n",
    "                \"\"\".format('new4@jmu.edu','new','9')\n",
    "print(q5_sql)"
   ]
  },
  {
   "cell_type": "code",
   "execution_count": 276,
   "id": "694febc3",
   "metadata": {},
   "outputs": [],
   "source": [
    "cur.execute(q5_sql)"
   ]
  },
  {
   "cell_type": "code",
   "execution_count": 286,
   "id": "763bd482",
   "metadata": {},
   "outputs": [],
   "source": [
    "conn.commit()"
   ]
  },
  {
   "cell_type": "code",
   "execution_count": 278,
   "id": "4882bf49",
   "metadata": {},
   "outputs": [
    {
     "data": {
      "text/html": [
       "<div>\n",
       "<style scoped>\n",
       "    .dataframe tbody tr th:only-of-type {\n",
       "        vertical-align: middle;\n",
       "    }\n",
       "\n",
       "    .dataframe tbody tr th {\n",
       "        vertical-align: top;\n",
       "    }\n",
       "\n",
       "    .dataframe thead th {\n",
       "        text-align: right;\n",
       "    }\n",
       "</style>\n",
       "<table border=\"1\" class=\"dataframe\">\n",
       "  <thead>\n",
       "    <tr style=\"text-align: right;\">\n",
       "      <th></th>\n",
       "      <th>p_email</th>\n",
       "      <th>p_name</th>\n",
       "      <th>p_office</th>\n",
       "    </tr>\n",
       "  </thead>\n",
       "  <tbody>\n",
       "    <tr>\n",
       "      <th>0</th>\n",
       "      <td>hendrinx@jmu.edu\\n</td>\n",
       "      <td>noel hendrickson\\n</td>\n",
       "      <td>engo1204\\n</td>\n",
       "    </tr>\n",
       "    <tr>\n",
       "      <th>1</th>\n",
       "      <td>waltontr@jmu.edu\\n</td>\n",
       "      <td>timothy walton</td>\n",
       "      <td>isat326</td>\n",
       "    </tr>\n",
       "    <tr>\n",
       "      <th>2</th>\n",
       "      <td>danzelox@jmu.edu</td>\n",
       "      <td>orthandrew danzell</td>\n",
       "      <td>isat1207</td>\n",
       "    </tr>\n",
       "    <tr>\n",
       "      <th>3</th>\n",
       "      <td>marrin@jmu.edu</td>\n",
       "      <td>stephen marrin</td>\n",
       "      <td>isat100</td>\n",
       "    </tr>\n",
       "    <tr>\n",
       "      <th>4</th>\n",
       "      <td>new@jmu.edu</td>\n",
       "      <td>new</td>\n",
       "      <td>9</td>\n",
       "    </tr>\n",
       "    <tr>\n",
       "      <th>5</th>\n",
       "      <td>new3@jmu.edu</td>\n",
       "      <td>new</td>\n",
       "      <td>9</td>\n",
       "    </tr>\n",
       "    <tr>\n",
       "      <th>6</th>\n",
       "      <td>new4@jmu.edu</td>\n",
       "      <td>new</td>\n",
       "      <td>9</td>\n",
       "    </tr>\n",
       "  </tbody>\n",
       "</table>\n",
       "</div>"
      ],
      "text/plain": [
       "              p_email              p_name    p_office\n",
       "0  hendrinx@jmu.edu\\n  noel hendrickson\\n  engo1204\\n\n",
       "1  waltontr@jmu.edu\\n      timothy walton     isat326\n",
       "2    danzelox@jmu.edu  orthandrew danzell    isat1207\n",
       "3      marrin@jmu.edu      stephen marrin     isat100\n",
       "4         new@jmu.edu                 new           9\n",
       "5        new3@jmu.edu                 new           9\n",
       "6        new4@jmu.edu                 new           9"
      ]
     },
     "execution_count": 278,
     "metadata": {},
     "output_type": "execute_result"
    }
   ],
   "source": [
    "df = pandas.read_sql_query(\"select * from gp29.professor\",conn)\n",
    "df[:]"
   ]
  },
  {
   "cell_type": "code",
   "execution_count": 290,
   "id": "8b7ddf84",
   "metadata": {},
   "outputs": [
    {
     "name": "stdout",
     "output_type": "stream",
     "text": [
      "\n",
      "            insert into gp29.course (c_number,c_name,c_room,p_email)\n",
      "            values ('102','new_class','121','new4@jmu.edu')  \n",
      "                  \n",
      "                \n"
     ]
    }
   ],
   "source": [
    "q5_sql= \"\"\"\n",
    "            insert into gp29.course (c_number,c_name,c_room,p_email)\n",
    "            values ('{}','{}','{}','{}')  \n",
    "                  \n",
    "                \"\"\".format('102','new_class','121','new4@jmu.edu')\n",
    "print(q5_sql)"
   ]
  },
  {
   "cell_type": "code",
   "execution_count": 291,
   "id": "d7ce3251",
   "metadata": {},
   "outputs": [],
   "source": [
    "cur.execute(q5_sql)"
   ]
  },
  {
   "cell_type": "code",
   "execution_count": 292,
   "id": "a8ee7e8e",
   "metadata": {},
   "outputs": [],
   "source": [
    "conn.commit()"
   ]
  },
  {
   "cell_type": "code",
   "execution_count": 293,
   "id": "a024b892",
   "metadata": {},
   "outputs": [
    {
     "data": {
      "text/html": [
       "<div>\n",
       "<style scoped>\n",
       "    .dataframe tbody tr th:only-of-type {\n",
       "        vertical-align: middle;\n",
       "    }\n",
       "\n",
       "    .dataframe tbody tr th {\n",
       "        vertical-align: top;\n",
       "    }\n",
       "\n",
       "    .dataframe thead th {\n",
       "        text-align: right;\n",
       "    }\n",
       "</style>\n",
       "<table border=\"1\" class=\"dataframe\">\n",
       "  <thead>\n",
       "    <tr style=\"text-align: right;\">\n",
       "      <th></th>\n",
       "      <th>c_number</th>\n",
       "      <th>c_name</th>\n",
       "      <th>c_room</th>\n",
       "      <th>p_email</th>\n",
       "    </tr>\n",
       "  </thead>\n",
       "  <tbody>\n",
       "    <tr>\n",
       "      <th>0</th>\n",
       "      <td>444</td>\n",
       "      <td>national_security</td>\n",
       "      <td>44</td>\n",
       "      <td>danzelox@jmu.edu</td>\n",
       "    </tr>\n",
       "    <tr>\n",
       "      <th>1</th>\n",
       "      <td>333</td>\n",
       "      <td>analysis</td>\n",
       "      <td>33</td>\n",
       "      <td>hendrinx@jmu.edu\\n</td>\n",
       "    </tr>\n",
       "    <tr>\n",
       "      <th>2</th>\n",
       "      <td>222</td>\n",
       "      <td>terrorism</td>\n",
       "      <td>22</td>\n",
       "      <td>waltontr@jmu.edu\\n</td>\n",
       "    </tr>\n",
       "    <tr>\n",
       "      <th>3</th>\n",
       "      <td>555</td>\n",
       "      <td>class</td>\n",
       "      <td>145</td>\n",
       "      <td>marrin@jmu.edu</td>\n",
       "    </tr>\n",
       "    <tr>\n",
       "      <th>4</th>\n",
       "      <td>111</td>\n",
       "      <td>data mining</td>\n",
       "      <td>11</td>\n",
       "      <td>marrin@jmu.edu</td>\n",
       "    </tr>\n",
       "    <tr>\n",
       "      <th>5</th>\n",
       "      <td>777</td>\n",
       "      <td>new_class</td>\n",
       "      <td>121</td>\n",
       "      <td>new@jmu.edu</td>\n",
       "    </tr>\n",
       "    <tr>\n",
       "      <th>6</th>\n",
       "      <td>999</td>\n",
       "      <td>new_class</td>\n",
       "      <td>121</td>\n",
       "      <td>new3@jmu.edu</td>\n",
       "    </tr>\n",
       "    <tr>\n",
       "      <th>7</th>\n",
       "      <td>102</td>\n",
       "      <td>new_class</td>\n",
       "      <td>121</td>\n",
       "      <td>new4@jmu.edu</td>\n",
       "    </tr>\n",
       "  </tbody>\n",
       "</table>\n",
       "</div>"
      ],
      "text/plain": [
       "  c_number             c_name c_room             p_email\n",
       "0      444  national_security     44    danzelox@jmu.edu\n",
       "1      333           analysis     33  hendrinx@jmu.edu\\n\n",
       "2      222          terrorism     22  waltontr@jmu.edu\\n\n",
       "3      555              class    145      marrin@jmu.edu\n",
       "4      111        data mining     11      marrin@jmu.edu\n",
       "5      777          new_class    121         new@jmu.edu\n",
       "6      999          new_class    121        new3@jmu.edu\n",
       "7      102          new_class    121        new4@jmu.edu"
      ]
     },
     "execution_count": 293,
     "metadata": {},
     "output_type": "execute_result"
    }
   ],
   "source": [
    "df = pandas.read_sql_query(\"select * from gp29.course\",conn)\n",
    "df[:]"
   ]
  },
  {
   "cell_type": "markdown",
   "id": "3a083fbb",
   "metadata": {},
   "source": [
    "# q6"
   ]
  },
  {
   "cell_type": "code",
   "execution_count": 307,
   "id": "dbeddbaa",
   "metadata": {},
   "outputs": [
    {
     "name": "stdout",
     "output_type": "stream",
     "text": [
      "\n",
      "           update gp29.course\n",
      "           set p_email = 'new4@jmu.edu'  \n",
      "            where p_email = 'danzelox@jmu.edu'\n",
      "                  \n",
      "                \n"
     ]
    }
   ],
   "source": [
    "q6_sql= \"\"\"\n",
    "           update gp29.course\n",
    "           set p_email = 'new4@jmu.edu'  \n",
    "            where p_email = '{}'\n",
    "                  \n",
    "                \"\"\".format('danzelox@jmu.edu')\n",
    "print(q6_sql)"
   ]
  },
  {
   "cell_type": "code",
   "execution_count": 308,
   "id": "5670402a",
   "metadata": {},
   "outputs": [],
   "source": [
    "cur.execute(q6_sql)"
   ]
  },
  {
   "cell_type": "code",
   "execution_count": 310,
   "id": "79c7b073",
   "metadata": {},
   "outputs": [],
   "source": [
    "conn.commit()"
   ]
  },
  {
   "cell_type": "code",
   "execution_count": 315,
   "id": "8cee8691",
   "metadata": {},
   "outputs": [
    {
     "data": {
      "text/html": [
       "<div>\n",
       "<style scoped>\n",
       "    .dataframe tbody tr th:only-of-type {\n",
       "        vertical-align: middle;\n",
       "    }\n",
       "\n",
       "    .dataframe tbody tr th {\n",
       "        vertical-align: top;\n",
       "    }\n",
       "\n",
       "    .dataframe thead th {\n",
       "        text-align: right;\n",
       "    }\n",
       "</style>\n",
       "<table border=\"1\" class=\"dataframe\">\n",
       "  <thead>\n",
       "    <tr style=\"text-align: right;\">\n",
       "      <th></th>\n",
       "      <th>c_number</th>\n",
       "      <th>c_name</th>\n",
       "      <th>c_room</th>\n",
       "      <th>p_email</th>\n",
       "    </tr>\n",
       "  </thead>\n",
       "  <tbody>\n",
       "    <tr>\n",
       "      <th>0</th>\n",
       "      <td>333</td>\n",
       "      <td>analysis</td>\n",
       "      <td>33</td>\n",
       "      <td>hendrinx@jmu.edu\\n</td>\n",
       "    </tr>\n",
       "    <tr>\n",
       "      <th>1</th>\n",
       "      <td>222</td>\n",
       "      <td>terrorism</td>\n",
       "      <td>22</td>\n",
       "      <td>waltontr@jmu.edu\\n</td>\n",
       "    </tr>\n",
       "    <tr>\n",
       "      <th>2</th>\n",
       "      <td>555</td>\n",
       "      <td>class</td>\n",
       "      <td>145</td>\n",
       "      <td>marrin@jmu.edu</td>\n",
       "    </tr>\n",
       "    <tr>\n",
       "      <th>3</th>\n",
       "      <td>111</td>\n",
       "      <td>data mining</td>\n",
       "      <td>11</td>\n",
       "      <td>marrin@jmu.edu</td>\n",
       "    </tr>\n",
       "    <tr>\n",
       "      <th>4</th>\n",
       "      <td>777</td>\n",
       "      <td>new_class</td>\n",
       "      <td>121</td>\n",
       "      <td>new@jmu.edu</td>\n",
       "    </tr>\n",
       "    <tr>\n",
       "      <th>5</th>\n",
       "      <td>999</td>\n",
       "      <td>new_class</td>\n",
       "      <td>121</td>\n",
       "      <td>new3@jmu.edu</td>\n",
       "    </tr>\n",
       "    <tr>\n",
       "      <th>6</th>\n",
       "      <td>102</td>\n",
       "      <td>new_class</td>\n",
       "      <td>121</td>\n",
       "      <td>new4@jmu.edu</td>\n",
       "    </tr>\n",
       "    <tr>\n",
       "      <th>7</th>\n",
       "      <td>444</td>\n",
       "      <td>national_security</td>\n",
       "      <td>44</td>\n",
       "      <td>new4@jmu.edu</td>\n",
       "    </tr>\n",
       "  </tbody>\n",
       "</table>\n",
       "</div>"
      ],
      "text/plain": [
       "  c_number             c_name c_room             p_email\n",
       "0      333           analysis     33  hendrinx@jmu.edu\\n\n",
       "1      222          terrorism     22  waltontr@jmu.edu\\n\n",
       "2      555              class    145      marrin@jmu.edu\n",
       "3      111        data mining     11      marrin@jmu.edu\n",
       "4      777          new_class    121         new@jmu.edu\n",
       "5      999          new_class    121        new3@jmu.edu\n",
       "6      102          new_class    121        new4@jmu.edu\n",
       "7      444  national_security     44        new4@jmu.edu"
      ]
     },
     "execution_count": 315,
     "metadata": {},
     "output_type": "execute_result"
    }
   ],
   "source": [
    "df = pandas.read_sql_query(\"select * from gp29.course\",conn)\n",
    "df[:]"
   ]
  },
  {
   "cell_type": "code",
   "execution_count": 312,
   "id": "e2cc756e",
   "metadata": {},
   "outputs": [
    {
     "name": "stdout",
     "output_type": "stream",
     "text": [
      "\n",
      "           delete from gp29.professor\n",
      "           where p_email = 'danzelox@jmu.edu'\n",
      "                  \n",
      "                \n"
     ]
    }
   ],
   "source": [
    "q6_sql= \"\"\"\n",
    "           delete from gp29.professor\n",
    "           where p_email = '{}'\n",
    "                  \n",
    "                \"\"\".format('danzelox@jmu.edu')\n",
    "print(q6_sql)"
   ]
  },
  {
   "cell_type": "code",
   "execution_count": 313,
   "id": "cea235cd",
   "metadata": {},
   "outputs": [],
   "source": [
    "cur.execute(q6_sql)"
   ]
  },
  {
   "cell_type": "code",
   "execution_count": 314,
   "id": "3de62f8e",
   "metadata": {},
   "outputs": [],
   "source": [
    "conn.commit()"
   ]
  },
  {
   "cell_type": "code",
   "execution_count": 316,
   "id": "8ee9125e",
   "metadata": {},
   "outputs": [
    {
     "data": {
      "text/html": [
       "<div>\n",
       "<style scoped>\n",
       "    .dataframe tbody tr th:only-of-type {\n",
       "        vertical-align: middle;\n",
       "    }\n",
       "\n",
       "    .dataframe tbody tr th {\n",
       "        vertical-align: top;\n",
       "    }\n",
       "\n",
       "    .dataframe thead th {\n",
       "        text-align: right;\n",
       "    }\n",
       "</style>\n",
       "<table border=\"1\" class=\"dataframe\">\n",
       "  <thead>\n",
       "    <tr style=\"text-align: right;\">\n",
       "      <th></th>\n",
       "      <th>p_email</th>\n",
       "      <th>p_name</th>\n",
       "      <th>p_office</th>\n",
       "    </tr>\n",
       "  </thead>\n",
       "  <tbody>\n",
       "    <tr>\n",
       "      <th>0</th>\n",
       "      <td>hendrinx@jmu.edu\\n</td>\n",
       "      <td>noel hendrickson\\n</td>\n",
       "      <td>engo1204\\n</td>\n",
       "    </tr>\n",
       "    <tr>\n",
       "      <th>1</th>\n",
       "      <td>waltontr@jmu.edu\\n</td>\n",
       "      <td>timothy walton</td>\n",
       "      <td>isat326</td>\n",
       "    </tr>\n",
       "    <tr>\n",
       "      <th>2</th>\n",
       "      <td>marrin@jmu.edu</td>\n",
       "      <td>stephen marrin</td>\n",
       "      <td>isat100</td>\n",
       "    </tr>\n",
       "    <tr>\n",
       "      <th>3</th>\n",
       "      <td>new@jmu.edu</td>\n",
       "      <td>new</td>\n",
       "      <td>9</td>\n",
       "    </tr>\n",
       "    <tr>\n",
       "      <th>4</th>\n",
       "      <td>new3@jmu.edu</td>\n",
       "      <td>new</td>\n",
       "      <td>9</td>\n",
       "    </tr>\n",
       "    <tr>\n",
       "      <th>5</th>\n",
       "      <td>new4@jmu.edu</td>\n",
       "      <td>new</td>\n",
       "      <td>9</td>\n",
       "    </tr>\n",
       "  </tbody>\n",
       "</table>\n",
       "</div>"
      ],
      "text/plain": [
       "              p_email              p_name    p_office\n",
       "0  hendrinx@jmu.edu\\n  noel hendrickson\\n  engo1204\\n\n",
       "1  waltontr@jmu.edu\\n      timothy walton     isat326\n",
       "2      marrin@jmu.edu      stephen marrin     isat100\n",
       "3         new@jmu.edu                 new           9\n",
       "4        new3@jmu.edu                 new           9\n",
       "5        new4@jmu.edu                 new           9"
      ]
     },
     "execution_count": 316,
     "metadata": {},
     "output_type": "execute_result"
    }
   ],
   "source": [
    "df = pandas.read_sql_query(\"select * from gp29.professor\",conn)\n",
    "df[:]"
   ]
  },
  {
   "cell_type": "code",
   "execution_count": 317,
   "id": "c0a6163c",
   "metadata": {},
   "outputs": [],
   "source": [
    "cur.close()"
   ]
  },
  {
   "cell_type": "code",
   "execution_count": 319,
   "id": "eac61ebd",
   "metadata": {},
   "outputs": [],
   "source": [
    "conn.close()"
   ]
  }
 ],
 "metadata": {
  "kernelspec": {
   "display_name": "conda_python3",
   "language": "python",
   "name": "conda_python3"
  },
  "language_info": {
   "codemirror_mode": {
    "name": "ipython",
    "version": 3
   },
   "file_extension": ".py",
   "mimetype": "text/x-python",
   "name": "python",
   "nbconvert_exporter": "python",
   "pygments_lexer": "ipython3",
   "version": "3.6.13"
  }
 },
 "nbformat": 4,
 "nbformat_minor": 5
}
