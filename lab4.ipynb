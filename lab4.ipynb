{
 "cells": [
  {
   "cell_type": "markdown",
   "id": "6cb823b4",
   "metadata": {},
   "source": [
    "# import lib"
   ]
  },
  {
   "cell_type": "code",
   "execution_count": 4,
   "id": "2058c383",
   "metadata": {},
   "outputs": [
    {
     "name": "stderr",
     "output_type": "stream",
     "text": [
      "/home/ec2-user/anaconda3/envs/python3/lib/python3.6/site-packages/psycopg2/__init__.py:144: UserWarning: The psycopg2 wheel package will be renamed from release 2.8; in order to keep installing from binary please use \"pip install psycopg2-binary\" instead. For details see: <http://initd.org/psycopg/docs/install.html#binary-install-from-pypi>.\n",
      "  \"\"\")\n"
     ]
    }
   ],
   "source": [
    "import pandas\n",
    "import psycopg2\n",
    "import configparser"
   ]
  },
  {
   "cell_type": "markdown",
   "id": "e7d3b5e9",
   "metadata": {},
   "source": [
    "# connect to db"
   ]
  },
  {
   "cell_type": "code",
   "execution_count": 5,
   "id": "2f068337",
   "metadata": {},
   "outputs": [],
   "source": [
    "config = configparser.ConfigParser()\n",
    "config.read('config.ini')\n",
    "\n",
    "host=config['myaws']['host']\n",
    "db=config['myaws']['db']\n",
    "user=config['myaws']['user']\n",
    "pwd = config['myaws']['pwd']\n",
    "\n",
    "conn = psycopg2.connect(  host=host,\n",
    "                       user=user,\n",
    "                       password = pwd,\n",
    "                       dbname=db)"
   ]
  },
  {
   "cell_type": "code",
   "execution_count": 20,
   "id": "cb72dde6",
   "metadata": {},
   "outputs": [],
   "source": [
    "cur=conn.cursor()"
   ]
  },
  {
   "cell_type": "markdown",
   "id": "6e4fcbcc",
   "metadata": {},
   "source": [
    "# q1"
   ]
  },
  {
   "cell_type": "code",
   "execution_count": 207,
   "id": "00108ad8",
   "metadata": {},
   "outputs": [],
   "source": [
    "q1_sql = \"\"\"\n",
    "        select * from gp29.student\n",
    "        \"\"\""
   ]
  },
  {
   "cell_type": "code",
   "execution_count": 208,
   "id": "bdbb6e9d",
   "metadata": {},
   "outputs": [],
   "source": [
    "cur.execute(q1_sql)"
   ]
  },
  {
   "cell_type": "code",
   "execution_count": 209,
   "id": "839dad8a",
   "metadata": {},
   "outputs": [],
   "source": [
    "conn.commit()"
   ]
  },
  {
   "cell_type": "code",
   "execution_count": 210,
   "id": "a7699bde",
   "metadata": {},
   "outputs": [
    {
     "data": {
      "text/html": [
       "<div>\n",
       "<style scoped>\n",
       "    .dataframe tbody tr th:only-of-type {\n",
       "        vertical-align: middle;\n",
       "    }\n",
       "\n",
       "    .dataframe tbody tr th {\n",
       "        vertical-align: top;\n",
       "    }\n",
       "\n",
       "    .dataframe thead th {\n",
       "        text-align: right;\n",
       "    }\n",
       "</style>\n",
       "<table border=\"1\" class=\"dataframe\">\n",
       "  <thead>\n",
       "    <tr style=\"text-align: right;\">\n",
       "      <th></th>\n",
       "      <th>s_email</th>\n",
       "      <th>s_name</th>\n",
       "      <th>s_major</th>\n",
       "    </tr>\n",
       "  </thead>\n",
       "  <tbody>\n",
       "    <tr>\n",
       "      <th>0</th>\n",
       "      <td>abc@jmu.edu</td>\n",
       "      <td>abc</td>\n",
       "      <td>analysis</td>\n",
       "    </tr>\n",
       "    <tr>\n",
       "      <th>1</th>\n",
       "      <td>def@jmu.edu</td>\n",
       "      <td>def</td>\n",
       "      <td>biology</td>\n",
       "    </tr>\n",
       "    <tr>\n",
       "      <th>2</th>\n",
       "      <td>ghi@jmu.edu</td>\n",
       "      <td>ghi</td>\n",
       "      <td>chemistry</td>\n",
       "    </tr>\n",
       "    <tr>\n",
       "      <th>3</th>\n",
       "      <td>jkl@jmu.edu</td>\n",
       "      <td>jkl</td>\n",
       "      <td>english</td>\n",
       "    </tr>\n",
       "  </tbody>\n",
       "</table>\n",
       "</div>"
      ],
      "text/plain": [
       "       s_email s_name    s_major\n",
       "0  abc@jmu.edu    abc   analysis\n",
       "1  def@jmu.edu    def    biology\n",
       "2  ghi@jmu.edu    ghi  chemistry\n",
       "3  jkl@jmu.edu    jkl    english"
      ]
     },
     "execution_count": 210,
     "metadata": {},
     "output_type": "execute_result"
    }
   ],
   "source": [
    "df = pandas.read_sql_query(q1_sql,conn)\n",
    "df[:]"
   ]
  },
  {
   "cell_type": "markdown",
   "id": "d7b6b8cb",
   "metadata": {},
   "source": [
    "# q2"
   ]
  },
  {
   "cell_type": "code",
   "execution_count": 201,
   "id": "1e16dd96",
   "metadata": {},
   "outputs": [],
   "source": [
    "q2_sql= \"\"\"\n",
    "                select gp29.professor.p_name, gp29.course.c_name\n",
    "                from gp29.professor\n",
    "                inner join gp29.course\n",
    "                on gp29.professor.p_email = gp29.course.p_email\n",
    "                \"\"\""
   ]
  },
  {
   "cell_type": "code",
   "execution_count": 202,
   "id": "4da7b2dd",
   "metadata": {},
   "outputs": [],
   "source": [
    "cur.execute(q2_sql)"
   ]
  },
  {
   "cell_type": "code",
   "execution_count": 203,
   "id": "dfa147fa",
   "metadata": {},
   "outputs": [],
   "source": [
    "conn.commit()"
   ]
  },
  {
   "cell_type": "code",
   "execution_count": 204,
   "id": "c051c420",
   "metadata": {},
   "outputs": [
    {
     "data": {
      "text/html": [
       "<div>\n",
       "<style scoped>\n",
       "    .dataframe tbody tr th:only-of-type {\n",
       "        vertical-align: middle;\n",
       "    }\n",
       "\n",
       "    .dataframe tbody tr th {\n",
       "        vertical-align: top;\n",
       "    }\n",
       "\n",
       "    .dataframe thead th {\n",
       "        text-align: right;\n",
       "    }\n",
       "</style>\n",
       "<table border=\"1\" class=\"dataframe\">\n",
       "  <thead>\n",
       "    <tr style=\"text-align: right;\">\n",
       "      <th></th>\n",
       "      <th>p_name</th>\n",
       "      <th>c_name</th>\n",
       "    </tr>\n",
       "  </thead>\n",
       "  <tbody>\n",
       "    <tr>\n",
       "      <th>0</th>\n",
       "      <td>orthandrew danzell</td>\n",
       "      <td>national_security</td>\n",
       "    </tr>\n",
       "    <tr>\n",
       "      <th>1</th>\n",
       "      <td>noel hendrickson\\n</td>\n",
       "      <td>analysis</td>\n",
       "    </tr>\n",
       "    <tr>\n",
       "      <th>2</th>\n",
       "      <td>timothy walton</td>\n",
       "      <td>terrorism</td>\n",
       "    </tr>\n",
       "    <tr>\n",
       "      <th>3</th>\n",
       "      <td>stephen marrin</td>\n",
       "      <td>class</td>\n",
       "    </tr>\n",
       "    <tr>\n",
       "      <th>4</th>\n",
       "      <td>stephen marrin</td>\n",
       "      <td>data mining</td>\n",
       "    </tr>\n",
       "    <tr>\n",
       "      <th>5</th>\n",
       "      <td>new</td>\n",
       "      <td>new_class</td>\n",
       "    </tr>\n",
       "    <tr>\n",
       "      <th>6</th>\n",
       "      <td>new</td>\n",
       "      <td>new_class</td>\n",
       "    </tr>\n",
       "  </tbody>\n",
       "</table>\n",
       "</div>"
      ],
      "text/plain": [
       "               p_name             c_name\n",
       "0  orthandrew danzell  national_security\n",
       "1  noel hendrickson\\n           analysis\n",
       "2      timothy walton          terrorism\n",
       "3      stephen marrin              class\n",
       "4      stephen marrin        data mining\n",
       "5                 new          new_class\n",
       "6                 new          new_class"
      ]
     },
     "execution_count": 204,
     "metadata": {},
     "output_type": "execute_result"
    }
   ],
   "source": [
    "df = pandas.read_sql_query(q2_sql,conn)\n",
    "df[:]"
   ]
  },
  {
   "cell_type": "markdown",
   "id": "dac311c4",
   "metadata": {},
   "source": [
    "# q3"
   ]
  },
  {
   "cell_type": "code",
   "execution_count": 16,
   "id": "6a0cb1a5",
   "metadata": {},
   "outputs": [],
   "source": [
    "q3_sql= \"\"\"\n",
    "               select c_number, count (*) as num_enrolled\n",
    "               from gp29.enroll_list\n",
    "               group by c_number\n",
    "               order by num_enrolled desc\n",
    "                \"\"\""
   ]
  },
  {
   "cell_type": "code",
   "execution_count": 206,
   "id": "b8690a0f",
   "metadata": {},
   "outputs": [],
   "source": [
    "cur.execute(q3_sql)"
   ]
  },
  {
   "cell_type": "code",
   "execution_count": 198,
   "id": "48bf352b",
   "metadata": {},
   "outputs": [],
   "source": [
    "conn.commit()"
   ]
  },
  {
   "cell_type": "code",
   "execution_count": 18,
   "id": "7a84c486",
   "metadata": {},
   "outputs": [
    {
     "data": {
      "text/html": [
       "<div>\n",
       "<style scoped>\n",
       "    .dataframe tbody tr th:only-of-type {\n",
       "        vertical-align: middle;\n",
       "    }\n",
       "\n",
       "    .dataframe tbody tr th {\n",
       "        vertical-align: top;\n",
       "    }\n",
       "\n",
       "    .dataframe thead th {\n",
       "        text-align: right;\n",
       "    }\n",
       "</style>\n",
       "<table border=\"1\" class=\"dataframe\">\n",
       "  <thead>\n",
       "    <tr style=\"text-align: right;\">\n",
       "      <th></th>\n",
       "      <th>c_number</th>\n",
       "      <th>num_enrolled</th>\n",
       "    </tr>\n",
       "  </thead>\n",
       "  <tbody>\n",
       "    <tr>\n",
       "      <th>0</th>\n",
       "      <td>111</td>\n",
       "      <td>3</td>\n",
       "    </tr>\n",
       "    <tr>\n",
       "      <th>1</th>\n",
       "      <td>333</td>\n",
       "      <td>3</td>\n",
       "    </tr>\n",
       "    <tr>\n",
       "      <th>2</th>\n",
       "      <td>444</td>\n",
       "      <td>2</td>\n",
       "    </tr>\n",
       "    <tr>\n",
       "      <th>3</th>\n",
       "      <td>222</td>\n",
       "      <td>2</td>\n",
       "    </tr>\n",
       "  </tbody>\n",
       "</table>\n",
       "</div>"
      ],
      "text/plain": [
       "  c_number  num_enrolled\n",
       "0      111             3\n",
       "1      333             3\n",
       "2      444             2\n",
       "3      222             2"
      ]
     },
     "execution_count": 18,
     "metadata": {},
     "output_type": "execute_result"
    }
   ],
   "source": [
    "df = pandas.read_sql_query(q3_sql,conn)\n",
    "df[:]"
   ]
  },
  {
   "cell_type": "code",
   "execution_count": 19,
   "id": "3efbce8e",
   "metadata": {},
   "outputs": [
    {
     "data": {
      "text/plain": [
       "<AxesSubplot:xlabel='c_number'>"
      ]
     },
     "execution_count": 19,
     "metadata": {},
     "output_type": "execute_result"
    },
    {
     "data": {
      "image/png": "[encoded data removed]",
      "text/plain": [
       "<Figure size 432x288 with 1 Axes>"
      ]
     },
     "metadata": {
      "needs_background": "light"
     },
     "output_type": "display_data"
    }
   ],
   "source": [
    "df.plot.bar(x='c_number',y='num_enrolled')"
   ]
  },
  {
   "cell_type": "markdown",
   "id": "790d8f25",
   "metadata": {},
   "source": [
    "# q4"
   ]
  },
  {
   "cell_type": "code",
   "execution_count": 12,
   "id": "fa8105f8",
   "metadata": {},
   "outputs": [],
   "source": [
    "q4_sql= \"\"\"\n",
    "              select gp29.professor.p_name,\n",
    "                  count (*) as num_teaching\n",
    "              from gp29.professor\n",
    "              inner join gp29.course\n",
    "              on gp29.professor.p_email = gp29.course.p_email\n",
    "              group by gp29.professor.p_name\n",
    "              order by num_teaching desc\n",
    "                  \n",
    "                \"\"\""
   ]
  },
  {
   "cell_type": "code",
   "execution_count": 193,
   "id": "de428ce8",
   "metadata": {},
   "outputs": [],
   "source": [
    "cur.execute(q4_sql)"
   ]
  },
  {
   "cell_type": "code",
   "execution_count": 194,
   "id": "510e048b",
   "metadata": {},
   "outputs": [],
   "source": [
    "conn.commit()"
   ]
  },
  {
   "cell_type": "code",
   "execution_count": 14,
   "id": "fceaefca",
   "metadata": {},
   "outputs": [
    {
     "data": {
      "text/html": [
       "<div>\n",
       "<style scoped>\n",
       "    .dataframe tbody tr th:only-of-type {\n",
       "        vertical-align: middle;\n",
       "    }\n",
       "\n",
       "    .dataframe tbody tr th {\n",
       "        vertical-align: top;\n",
       "    }\n",
       "\n",
       "    .dataframe thead th {\n",
       "        text-align: right;\n",
       "    }\n",
       "</style>\n",
       "<table border=\"1\" class=\"dataframe\">\n",
       "  <thead>\n",
       "    <tr style=\"text-align: right;\">\n",
       "      <th></th>\n",
       "      <th>p_name</th>\n",
       "      <th>num_teaching</th>\n",
       "    </tr>\n",
       "  </thead>\n",
       "  <tbody>\n",
       "    <tr>\n",
       "      <th>0</th>\n",
       "      <td>new</td>\n",
       "      <td>4</td>\n",
       "    </tr>\n",
       "    <tr>\n",
       "      <th>1</th>\n",
       "      <td>stephen marrin</td>\n",
       "      <td>2</td>\n",
       "    </tr>\n",
       "    <tr>\n",
       "      <th>2</th>\n",
       "      <td>timothy walton</td>\n",
       "      <td>1</td>\n",
       "    </tr>\n",
       "    <tr>\n",
       "      <th>3</th>\n",
       "      <td>noel hendrickson\\n</td>\n",
       "      <td>1</td>\n",
       "    </tr>\n",
       "  </tbody>\n",
       "</table>\n",
       "</div>"
      ],
      "text/plain": [
       "               p_name  num_teaching\n",
       "0                 new             4\n",
       "1      stephen marrin             2\n",
       "2      timothy walton             1\n",
       "3  noel hendrickson\\n             1"
      ]
     },
     "execution_count": 14,
     "metadata": {},
     "output_type": "execute_result"
    }
   ],
   "source": [
    "df = pandas.read_sql_query(q4_sql,conn)\n",
    "df[:]"
   ]
  },
  {
   "cell_type": "code",
   "execution_count": 15,
   "id": "2c864c60",
   "metadata": {},
   "outputs": [
    {
     "data": {
      "text/plain": [
       "<AxesSubplot:xlabel='p_name'>"
      ]
     },
     "execution_count": 15,
     "metadata": {},
     "output_type": "execute_result"
    },
    {
     "data": {
      "image/png": "[encoded data removed]",
      "text/plain": [
       "<Figure size 432x288 with 1 Axes>"
      ]
     },
     "metadata": {
      "needs_background": "light"
     },
     "output_type": "display_data"
    }
   ],
   "source": [
    "df.plot.bar(x='p_name',y='num_teaching')"
   ]
  },
  {
   "cell_type": "markdown",
   "id": "28832427",
   "metadata": {},
   "source": [
    "# q5"
   ]
  },
  {
   "cell_type": "code",
   "execution_count": 275,
   "id": "1fe90962",
   "metadata": {
    "scrolled": false
   },
   "outputs": [
    {
     "name": "stdout",
     "output_type": "stream",
     "text": [
      "\n",
      "            insert into gp29.professor(p_email,p_name,p_office)\n",
      "            values ('new4@jmu.edu','new','9')  \n",
      "                  \n",
      "                \n"
     ]
    }
   ],
   "source": [
    "q5_sql= \"\"\"\n",
    "            insert into gp29.professor(p_email,p_name,p_office)\n",
    "            values ('{}','{}','{}')  \n",
    "                  \n",
    "                \"\"\".format('new4@jmu.edu','new','9')\n",
    "print(q5_sql)"
   ]
  },
  {
   "cell_type": "code",
   "execution_count": 276,
   "id": "085b8577",
   "metadata": {},
   "outputs": [],
   "source": [
    "cur.execute(q5_sql)"
   ]
  },
  {
   "cell_type": "code",
   "execution_count": 286,
   "id": "156b9d3a",
   "metadata": {},
   "outputs": [],
   "source": [
    "conn.commit()"
   ]
  },
  {
   "cell_type": "code",
   "execution_count": 278,
   "id": "de33485b",
   "metadata": {},
   "outputs": [
    {
     "data": {
      "text/html": [
       "<div>\n",
       "<style scoped>\n",
       "    .dataframe tbody tr th:only-of-type {\n",
       "        vertical-align: middle;\n",
       "    }\n",
       "\n",
       "    .dataframe tbody tr th {\n",
       "        vertical-align: top;\n",
       "    }\n",
       "\n",
       "    .dataframe thead th {\n",
       "        text-align: right;\n",
       "    }\n",
       "</style>\n",
       "<table border=\"1\" class=\"dataframe\">\n",
       "  <thead>\n",
       "    <tr style=\"text-align: right;\">\n",
       "      <th></th>\n",
       "      <th>p_email</th>\n",
       "      <th>p_name</th>\n",
       "      <th>p_office</th>\n",
       "    </tr>\n",
       "  </thead>\n",
       "  <tbody>\n",
       "    <tr>\n",
       "      <th>0</th>\n",
       "      <td>hendrinx@jmu.edu\\n</td>\n",
       "      <td>noel hendrickson\\n</td>\n",
       "      <td>engo1204\\n</td>\n",
       "    </tr>\n",
       "    <tr>\n",
       "      <th>1</th>\n",
       "      <td>waltontr@jmu.edu\\n</td>\n",
       "      <td>timothy walton</td>\n",
       "      <td>isat326</td>\n",
       "    </tr>\n",
       "    <tr>\n",
       "      <th>2</th>\n",
       "      <td>danzelox@jmu.edu</td>\n",
       "      <td>orthandrew danzell</td>\n",
       "      <td>isat1207</td>\n",
       "    </tr>\n",
       "    <tr>\n",
       "      <th>3</th>\n",
       "      <td>marrin@jmu.edu</td>\n",
       "      <td>stephen marrin</td>\n",
       "      <td>isat100</td>\n",
       "    </tr>\n",
       "    <tr>\n",
       "      <th>4</th>\n",
       "      <td>new@jmu.edu</td>\n",
       "      <td>new</td>\n",
       "      <td>9</td>\n",
       "    </tr>\n",
       "    <tr>\n",
       "      <th>5</th>\n",
       "      <td>new3@jmu.edu</td>\n",
       "      <td>new</td>\n",
       "      <td>9</td>\n",
       "    </tr>\n",
       "    <tr>\n",
       "      <th>6</th>\n",
       "      <td>new4@jmu.edu</td>\n",
       "      <td>new</td>\n",
       "      <td>9</td>\n",
       "    </tr>\n",
       "  </tbody>\n",
       "</table>\n",
       "</div>"
      ],
      "text/plain": [
       "              p_email              p_name    p_office\n",
       "0  hendrinx@jmu.edu\\n  noel hendrickson\\n  engo1204\\n\n",
       "1  waltontr@jmu.edu\\n      timothy walton     isat326\n",
       "2    danzelox@jmu.edu  orthandrew danzell    isat1207\n",
       "3      marrin@jmu.edu      stephen marrin     isat100\n",
       "4         new@jmu.edu                 new           9\n",
       "5        new3@jmu.edu                 new           9\n",
       "6        new4@jmu.edu                 new           9"
      ]
     },
     "execution_count": 278,
     "metadata": {},
     "output_type": "execute_result"
    }
   ],
   "source": [
    "df = pandas.read_sql_query(\"select * from gp29.professor\",conn)\n",
    "df[:]"
   ]
  },
  {
   "cell_type": "code",
   "execution_count": 290,
   "id": "7ad21b49",
   "metadata": {},
   "outputs": [
    {
     "name": "stdout",
     "output_type": "stream",
     "text": [
      "\n",
      "            insert into gp29.course (c_number,c_name,c_room,p_email)\n",
      "            values ('102','new_class','121','new4@jmu.edu')  \n",
      "                  \n",
      "                \n"
     ]
    }
   ],
   "source": [
    "q5_sql= \"\"\"\n",
    "            insert into gp29.course (c_number,c_name,c_room,p_email)\n",
    "            values ('{}','{}','{}','{}')  \n",
    "                  \n",
    "                \"\"\".format('102','new_class','121','new4@jmu.edu')\n",
    "print(q5_sql)"
   ]
  },
  {
   "cell_type": "code",
   "execution_count": 291,
   "id": "f5b07f04",
   "metadata": {},
   "outputs": [],
   "source": [
    "cur.execute(q5_sql)"
   ]
  },
  {
   "cell_type": "code",
   "execution_count": 292,
   "id": "8d2d41c6",
   "metadata": {},
   "outputs": [],
   "source": [
    "conn.commit()"
   ]
  },
  {
   "cell_type": "code",
   "execution_count": 293,
   "id": "e7f37840",
   "metadata": {},
   "outputs": [
    {
     "data": {
      "text/html": [
       "<div>\n",
       "<style scoped>\n",
       "    .dataframe tbody tr th:only-of-type {\n",
       "        vertical-align: middle;\n",
       "    }\n",
       "\n",
       "    .dataframe tbody tr th {\n",
       "        vertical-align: top;\n",
       "    }\n",
       "\n",
       "    .dataframe thead th {\n",
       "        text-align: right;\n",
       "    }\n",
       "</style>\n",
       "<table border=\"1\" class=\"dataframe\">\n",
       "  <thead>\n",
       "    <tr style=\"text-align: right;\">\n",
       "      <th></th>\n",
       "      <th>c_number</th>\n",
       "      <th>c_name</th>\n",
       "      <th>c_room</th>\n",
       "      <th>p_email</th>\n",
       "    </tr>\n",
       "  </thead>\n",
       "  <tbody>\n",
       "    <tr>\n",
       "      <th>0</th>\n",
       "      <td>444</td>\n",
       "      <td>national_security</td>\n",
       "      <td>44</td>\n",
       "      <td>danzelox@jmu.edu</td>\n",
       "    </tr>\n",
       "    <tr>\n",
       "      <th>1</th>\n",
       "      <td>333</td>\n",
       "      <td>analysis</td>\n",
       "      <td>33</td>\n",
       "      <td>hendrinx@jmu.edu\\n</td>\n",
       "    </tr>\n",
       "    <tr>\n",
       "      <th>2</th>\n",
       "      <td>222</td>\n",
       "      <td>terrorism</td>\n",
       "      <td>22</td>\n",
       "      <td>waltontr@jmu.edu\\n</td>\n",
       "    </tr>\n",
       "    <tr>\n",
       "      <th>3</th>\n",
       "      <td>555</td>\n",
       "      <td>class</td>\n",
       "      <td>145</td>\n",
       "      <td>marrin@jmu.edu</td>\n",
       "    </tr>\n",
       "    <tr>\n",
       "      <th>4</th>\n",
       "      <td>111</td>\n",
       "      <td>data mining</td>\n",
       "      <td>11</td>\n",
       "      <td>marrin@jmu.edu</td>\n",
       "    </tr>\n",
       "    <tr>\n",
       "      <th>5</th>\n",
       "      <td>777</td>\n",
       "      <td>new_class</td>\n",
       "      <td>121</td>\n",
       "      <td>new@jmu.edu</td>\n",
       "    </tr>\n",
       "    <tr>\n",
       "      <th>6</th>\n",
       "      <td>999</td>\n",
       "      <td>new_class</td>\n",
       "      <td>121</td>\n",
       "      <td>new3@jmu.edu</td>\n",
       "    </tr>\n",
       "    <tr>\n",
       "      <th>7</th>\n",
       "      <td>102</td>\n",
       "      <td>new_class</td>\n",
       "      <td>121</td>\n",
       "      <td>new4@jmu.edu</td>\n",
       "    </tr>\n",
       "  </tbody>\n",
       "</table>\n",
       "</div>"
      ],
      "text/plain": [
       "  c_number             c_name c_room             p_email\n",
       "0      444  national_security     44    danzelox@jmu.edu\n",
       "1      333           analysis     33  hendrinx@jmu.edu\\n\n",
       "2      222          terrorism     22  waltontr@jmu.edu\\n\n",
       "3      555              class    145      marrin@jmu.edu\n",
       "4      111        data mining     11      marrin@jmu.edu\n",
       "5      777          new_class    121         new@jmu.edu\n",
       "6      999          new_class    121        new3@jmu.edu\n",
       "7      102          new_class    121        new4@jmu.edu"
      ]
     },
     "execution_count": 293,
     "metadata": {},
     "output_type": "execute_result"
    }
   ],
   "source": [
    "df = pandas.read_sql_query(\"select * from gp29.course\",conn)\n",
    "df[:]"
   ]
  },
  {
   "cell_type": "markdown",
   "id": "d09ca360",
   "metadata": {},
   "source": [
    "# q6"
   ]
  },
  {
   "cell_type": "code",
   "execution_count": 1,
   "id": "9029c71b",
   "metadata": {},
   "outputs": [
    {
     "name": "stdout",
     "output_type": "stream",
     "text": [
      "\n",
      "           update gp29.course\n",
      "           set p_email = 'new4@jmu.edu'  \n",
      "            where p_email = 'danzelox@jmu.edu'\n",
      "                  \n",
      "                \n"
     ]
    }
   ],
   "source": [
    "q6_sql= \"\"\"\n",
    "           update gp29.course\n",
    "           set p_email = '{}'  \n",
    "            where p_email = '{}'\n",
    "                  \n",
    "                \"\"\".format('new4@jmu.edu','danzelox@jmu.edu')\n",
    "print(q6_sql)"
   ]
  },
  {
   "cell_type": "code",
   "execution_count": 308,
   "id": "fdfedaf2",
   "metadata": {},
   "outputs": [],
   "source": [
    "cur.execute(q6_sql)"
   ]
  },
  {
   "cell_type": "code",
   "execution_count": 310,
   "id": "1a0adc9b",
   "metadata": {},
   "outputs": [],
   "source": [
    "conn.commit()"
   ]
  },
  {
   "cell_type": "code",
   "execution_count": 315,
   "id": "845c6616",
   "metadata": {},
   "outputs": [
    {
     "data": {
      "text/html": [
       "<div>\n",
       "<style scoped>\n",
       "    .dataframe tbody tr th:only-of-type {\n",
       "        vertical-align: middle;\n",
       "    }\n",
       "\n",
       "    .dataframe tbody tr th {\n",
       "        vertical-align: top;\n",
       "    }\n",
       "\n",
       "    .dataframe thead th {\n",
       "        text-align: right;\n",
       "    }\n",
       "</style>\n",
       "<table border=\"1\" class=\"dataframe\">\n",
       "  <thead>\n",
       "    <tr style=\"text-align: right;\">\n",
       "      <th></th>\n",
       "      <th>c_number</th>\n",
       "      <th>c_name</th>\n",
       "      <th>c_room</th>\n",
       "      <th>p_email</th>\n",
       "    </tr>\n",
       "  </thead>\n",
       "  <tbody>\n",
       "    <tr>\n",
       "      <th>0</th>\n",
       "      <td>333</td>\n",
       "      <td>analysis</td>\n",
       "      <td>33</td>\n",
       "      <td>hendrinx@jmu.edu\\n</td>\n",
       "    </tr>\n",
       "    <tr>\n",
       "      <th>1</th>\n",
       "      <td>222</td>\n",
       "      <td>terrorism</td>\n",
       "      <td>22</td>\n",
       "      <td>waltontr@jmu.edu\\n</td>\n",
       "    </tr>\n",
       "    <tr>\n",
       "      <th>2</th>\n",
       "      <td>555</td>\n",
       "      <td>class</td>\n",
       "      <td>145</td>\n",
       "      <td>marrin@jmu.edu</td>\n",
       "    </tr>\n",
       "    <tr>\n",
       "      <th>3</th>\n",
       "      <td>111</td>\n",
       "      <td>data mining</td>\n",
       "      <td>11</td>\n",
       "      <td>marrin@jmu.edu</td>\n",
       "    </tr>\n",
       "    <tr>\n",
       "      <th>4</th>\n",
       "      <td>777</td>\n",
       "      <td>new_class</td>\n",
       "      <td>121</td>\n",
       "      <td>new@jmu.edu</td>\n",
       "    </tr>\n",
       "    <tr>\n",
       "      <th>5</th>\n",
       "      <td>999</td>\n",
       "      <td>new_class</td>\n",
       "      <td>121</td>\n",
       "      <td>new3@jmu.edu</td>\n",
       "    </tr>\n",
       "    <tr>\n",
       "      <th>6</th>\n",
       "      <td>102</td>\n",
       "      <td>new_class</td>\n",
       "      <td>121</td>\n",
       "      <td>new4@jmu.edu</td>\n",
       "    </tr>\n",
       "    <tr>\n",
       "      <th>7</th>\n",
       "      <td>444</td>\n",
       "      <td>national_security</td>\n",
       "      <td>44</td>\n",
       "      <td>new4@jmu.edu</td>\n",
       "    </tr>\n",
       "  </tbody>\n",
       "</table>\n",
       "</div>"
      ],
      "text/plain": [
       "  c_number             c_name c_room             p_email\n",
       "0      333           analysis     33  hendrinx@jmu.edu\\n\n",
       "1      222          terrorism     22  waltontr@jmu.edu\\n\n",
       "2      555              class    145      marrin@jmu.edu\n",
       "3      111        data mining     11      marrin@jmu.edu\n",
       "4      777          new_class    121         new@jmu.edu\n",
       "5      999          new_class    121        new3@jmu.edu\n",
       "6      102          new_class    121        new4@jmu.edu\n",
       "7      444  national_security     44        new4@jmu.edu"
      ]
     },
     "execution_count": 315,
     "metadata": {},
     "output_type": "execute_result"
    }
   ],
   "source": [
    "df = pandas.read_sql_query(\"select * from gp29.course\",conn)\n",
    "df[:]"
   ]
  },
  {
   "cell_type": "code",
   "execution_count": 312,
   "id": "bd3e1fba",
   "metadata": {},
   "outputs": [
    {
     "name": "stdout",
     "output_type": "stream",
     "text": [
      "\n",
      "           delete from gp29.professor\n",
      "           where p_email = 'danzelox@jmu.edu'\n",
      "                  \n",
      "                \n"
     ]
    }
   ],
   "source": [
    "q6_sql= \"\"\"\n",
    "           delete from gp29.professor\n",
    "           where p_email = '{}'\n",
    "                  \n",
    "                \"\"\".format('danzelox@jmu.edu')\n",
    "print(q6_sql)"
   ]
  },
  {
   "cell_type": "code",
   "execution_count": 313,
   "id": "c49ab60e",
   "metadata": {},
   "outputs": [],
   "source": [
    "cur.execute(q6_sql)"
   ]
  },
  {
   "cell_type": "code",
   "execution_count": 314,
   "id": "eeafe661",
   "metadata": {},
   "outputs": [],
   "source": [
    "conn.commit()"
   ]
  },
  {
   "cell_type": "code",
   "execution_count": 316,
   "id": "66c2a35e",
   "metadata": {},
   "outputs": [
    {
     "data": {
      "text/html": [
       "<div>\n",
       "<style scoped>\n",
       "    .dataframe tbody tr th:only-of-type {\n",
       "        vertical-align: middle;\n",
       "    }\n",
       "\n",
       "    .dataframe tbody tr th {\n",
       "        vertical-align: top;\n",
       "    }\n",
       "\n",
       "    .dataframe thead th {\n",
       "        text-align: right;\n",
       "    }\n",
       "</style>\n",
       "<table border=\"1\" class=\"dataframe\">\n",
       "  <thead>\n",
       "    <tr style=\"text-align: right;\">\n",
       "      <th></th>\n",
       "      <th>p_email</th>\n",
       "      <th>p_name</th>\n",
       "      <th>p_office</th>\n",
       "    </tr>\n",
       "  </thead>\n",
       "  <tbody>\n",
       "    <tr>\n",
       "      <th>0</th>\n",
       "      <td>hendrinx@jmu.edu\\n</td>\n",
       "      <td>noel hendrickson\\n</td>\n",
       "      <td>engo1204\\n</td>\n",
       "    </tr>\n",
       "    <tr>\n",
       "      <th>1</th>\n",
       "      <td>waltontr@jmu.edu\\n</td>\n",
       "      <td>timothy walton</td>\n",
       "      <td>isat326</td>\n",
       "    </tr>\n",
       "    <tr>\n",
       "      <th>2</th>\n",
       "      <td>marrin@jmu.edu</td>\n",
       "      <td>stephen marrin</td>\n",
       "      <td>isat100</td>\n",
       "    </tr>\n",
       "    <tr>\n",
       "      <th>3</th>\n",
       "      <td>new@jmu.edu</td>\n",
       "      <td>new</td>\n",
       "      <td>9</td>\n",
       "    </tr>\n",
       "    <tr>\n",
       "      <th>4</th>\n",
       "      <td>new3@jmu.edu</td>\n",
       "      <td>new</td>\n",
       "      <td>9</td>\n",
       "    </tr>\n",
       "    <tr>\n",
       "      <th>5</th>\n",
       "      <td>new4@jmu.edu</td>\n",
       "      <td>new</td>\n",
       "      <td>9</td>\n",
       "    </tr>\n",
       "  </tbody>\n",
       "</table>\n",
       "</div>"
      ],
      "text/plain": [
       "              p_email              p_name    p_office\n",
       "0  hendrinx@jmu.edu\\n  noel hendrickson\\n  engo1204\\n\n",
       "1  waltontr@jmu.edu\\n      timothy walton     isat326\n",
       "2      marrin@jmu.edu      stephen marrin     isat100\n",
       "3         new@jmu.edu                 new           9\n",
       "4        new3@jmu.edu                 new           9\n",
       "5        new4@jmu.edu                 new           9"
      ]
     },
     "execution_count": 316,
     "metadata": {},
     "output_type": "execute_result"
    }
   ],
   "source": [
    "df = pandas.read_sql_query(\"select * from gp29.professor\",conn)\n",
    "df[:]"
   ]
  },
  {
   "cell_type": "code",
   "execution_count": 317,
   "id": "5b8a91d3",
   "metadata": {},
   "outputs": [],
   "source": [
    "cur.close()"
   ]
  },
  {
   "cell_type": "code",
   "execution_count": 319,
   "id": "fa187852",
   "metadata": {},
   "outputs": [],
   "source": [
    "conn.close()"
   ]
  }
 ],
 "metadata": {
  "kernelspec": {
   "display_name": "conda_python3",
   "language": "python",
   "name": "conda_python3"
  },
  "language_info": {
   "codemirror_mode": {
    "name": "ipython",
    "version": 3
   },
   "file_extension": ".py",
   "mimetype": "text/x-python",
   "name": "python",
   "nbconvert_exporter": "python",
   "pygments_lexer": "ipython3",
   "version": "3.6.13"
  }
 },
 "nbformat": 4,
 "nbformat_minor": 5
}
