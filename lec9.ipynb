{
 "cells": [
  {
   "cell_type": "code",
   "execution_count": 1,
   "id": "33383336",
   "metadata": {},
   "outputs": [
    {
     "name": "stdout",
     "output_type": "stream",
     "text": [
      "Collecting pymongo\n",
      "  Downloading pymongo-3.12.1-cp36-cp36m-manylinux_2_17_x86_64.manylinux2014_x86_64.whl (506 kB)\n",
      "\u001b[K     |████████████████████████████████| 506 kB 26.5 MB/s eta 0:00:01\n",
      "\u001b[?25hInstalling collected packages: pymongo\n",
      "Successfully installed pymongo-3.12.1\n",
      "\u001b[33mWARNING: You are using pip version 21.2.4; however, version 21.3.1 is available.\n",
      "You should consider upgrading via the '/home/ec2-user/anaconda3/envs/python3/bin/python -m pip install --upgrade pip' command.\u001b[0m\n"
     ]
    }
   ],
   "source": [
    "!pip install pymongo"
   ]
  },
  {
   "cell_type": "code",
   "execution_count": 2,
   "id": "b339188c",
   "metadata": {},
   "outputs": [
    {
     "name": "stdout",
     "output_type": "stream",
     "text": [
      "Requirement already satisfied: pymongo[srv] in /home/ec2-user/anaconda3/envs/python3/lib/python3.6/site-packages (3.12.1)\n",
      "Collecting dnspython<3.0.0,>=1.16.0\n",
      "  Downloading dnspython-2.1.0-py3-none-any.whl (241 kB)\n",
      "\u001b[K     |████████████████████████████████| 241 kB 23.4 MB/s eta 0:00:01\n",
      "\u001b[?25hInstalling collected packages: dnspython\n",
      "Successfully installed dnspython-2.1.0\n",
      "\u001b[33mWARNING: You are using pip version 21.2.4; however, version 21.3.1 is available.\n",
      "You should consider upgrading via the '/home/ec2-user/anaconda3/envs/python3/bin/python -m pip install --upgrade pip' command.\u001b[0m\n"
     ]
    }
   ],
   "source": [
    "!pip install pymongo[srv]"
   ]
  },
  {
   "cell_type": "code",
   "execution_count": 3,
   "id": "fa93f67a",
   "metadata": {},
   "outputs": [
    {
     "name": "stdout",
     "output_type": "stream",
     "text": [
      "Requirement already satisfied: dnspython in /home/ec2-user/anaconda3/envs/python3/lib/python3.6/site-packages (2.1.0)\n",
      "\u001b[33mWARNING: You are using pip version 21.2.4; however, version 21.3.1 is available.\n",
      "You should consider upgrading via the '/home/ec2-user/anaconda3/envs/python3/bin/python -m pip install --upgrade pip' command.\u001b[0m\n"
     ]
    }
   ],
   "source": [
    "!pip install dnspython"
   ]
  },
  {
   "cell_type": "code",
   "execution_count": 4,
   "id": "2bedf90f",
   "metadata": {},
   "outputs": [
    {
     "name": "stdout",
     "output_type": "stream",
     "text": [
      "Collecting tweepy\n",
      "  Downloading tweepy-4.3.0-py2.py3-none-any.whl (64 kB)\n",
      "\u001b[K     |████████████████████████████████| 64 kB 2.8 MB/s  eta 0:00:01\n",
      "\u001b[?25hRequirement already satisfied: requests<3,>=2.11.1 in /home/ec2-user/anaconda3/envs/python3/lib/python3.6/site-packages (from tweepy) (2.26.0)\n",
      "Collecting requests-oauthlib<2,>=1.0.0\n",
      "  Downloading requests_oauthlib-1.3.0-py2.py3-none-any.whl (23 kB)\n",
      "Requirement already satisfied: charset-normalizer~=2.0.0 in /home/ec2-user/anaconda3/envs/python3/lib/python3.6/site-packages (from requests<3,>=2.11.1->tweepy) (2.0.6)\n",
      "Requirement already satisfied: idna<4,>=2.5 in /home/ec2-user/anaconda3/envs/python3/lib/python3.6/site-packages (from requests<3,>=2.11.1->tweepy) (3.1)\n",
      "Requirement already satisfied: urllib3<1.27,>=1.21.1 in /home/ec2-user/anaconda3/envs/python3/lib/python3.6/site-packages (from requests<3,>=2.11.1->tweepy) (1.26.6)\n",
      "Requirement already satisfied: certifi>=2017.4.17 in /home/ec2-user/anaconda3/envs/python3/lib/python3.6/site-packages (from requests<3,>=2.11.1->tweepy) (2021.5.30)\n",
      "Collecting oauthlib>=3.0.0\n",
      "  Downloading oauthlib-3.1.1-py2.py3-none-any.whl (146 kB)\n",
      "\u001b[K     |████████████████████████████████| 146 kB 22.3 MB/s eta 0:00:01\n",
      "\u001b[?25hInstalling collected packages: oauthlib, requests-oauthlib, tweepy\n",
      "Successfully installed oauthlib-3.1.1 requests-oauthlib-1.3.0 tweepy-4.3.0\n",
      "\u001b[33mWARNING: You are using pip version 21.2.4; however, version 21.3.1 is available.\n",
      "You should consider upgrading via the '/home/ec2-user/anaconda3/envs/python3/bin/python -m pip install --upgrade pip' command.\u001b[0m\n"
     ]
    }
   ],
   "source": [
    "!pip install tweepy"
   ]
  },
  {
   "cell_type": "code",
   "execution_count": 5,
   "id": "6a7ad379",
   "metadata": {},
   "outputs": [
    {
     "name": "stdout",
     "output_type": "stream",
     "text": [
      "Collecting twitter\n",
      "  Downloading twitter-1.19.3-py2.py3-none-any.whl (50 kB)\n",
      "\u001b[K     |████████████████████████████████| 50 kB 7.9 MB/s  eta 0:00:01\n",
      "\u001b[?25hInstalling collected packages: twitter\n",
      "Successfully installed twitter-1.19.3\n",
      "\u001b[33mWARNING: You are using pip version 21.2.4; however, version 21.3.1 is available.\n",
      "You should consider upgrading via the '/home/ec2-user/anaconda3/envs/python3/bin/python -m pip install --upgrade pip' command.\u001b[0m\n"
     ]
    }
   ],
   "source": [
    "!pip install twitter"
   ]
  },
  {
   "cell_type": "code",
   "execution_count": 6,
   "id": "ff9035ab",
   "metadata": {},
   "outputs": [],
   "source": [
    "import pymongo\n",
    "from pymongo import MongoClient\n",
    "import json\n",
    "import tweepy\n",
    "import twitter\n",
    "from pprint import pprint\n",
    "import configparser\n",
    "import pandas as pd"
   ]
  },
  {
   "cell_type": "code",
   "execution_count": 12,
   "id": "7a4bdd8c",
   "metadata": {},
   "outputs": [],
   "source": [
    "config = configparser.ConfigParser()\n",
    "config.read('config.ini')\n",
    "\n",
    "CONSUMER_KEY      = config['mytwitter']['api_key']\n",
    "CONSUMER_SECRET   = config['mytwitter']['api_secrete']\n",
    "OAUTH_TOKEN       = config['mytwitter']['access_token']\n",
    "OATH_TOKEN_SECRET = config['mytwitter']['access_secrete']\n",
    "\n",
    "mongod_connect = config['mymongo']['connection']"
   ]
  },
  {
   "cell_type": "code",
   "execution_count": 13,
   "id": "4ab88aa7",
   "metadata": {},
   "outputs": [
    {
     "data": {
      "text/plain": [
       "'id_1'"
      ]
     },
     "execution_count": 13,
     "metadata": {},
     "output_type": "execute_result"
    }
   ],
   "source": [
    "client = MongoClient(mongod_connect)\n",
    "db = client.demo # use or create a database named demo\n",
    "tweet_collection = db.tweet_collection #use or create a collection named tweet_collection\n",
    "tweet_collection.create_index([(\"id\", pymongo.ASCENDING)],unique = True) # make sure the collected tweets are unique"
   ]
  },
  {
   "cell_type": "code",
   "execution_count": 17,
   "id": "1ce53065",
   "metadata": {},
   "outputs": [],
   "source": [
    "rest_auth = twitter.oauth.OAuth(OAUTH_TOKEN,OATH_TOKEN_SECRET,CONSUMER_KEY,CONSUMER_SECRET)\n",
    "rest_api = twitter.Twitter(auth=rest_auth)"
   ]
  },
  {
   "cell_type": "code",
   "execution_count": 18,
   "id": "0efb404d",
   "metadata": {},
   "outputs": [],
   "source": [
    "count = 100 #number of returned tweets, default and max is 100\n",
    "geocode = \"38.4392897,-78.9412224,50mi\"  # defin the location, in Harrisonburg, VA\n",
    "q = \"election\"                               #define the keywords, tweets contain election"
   ]
  },
  {
   "cell_type": "code",
   "execution_count": 19,
   "id": "3ee61307",
   "metadata": {},
   "outputs": [
    {
     "name": "stdout",
     "output_type": "stream",
     "text": [
      "'Thu Nov 04 19:01:04 +0000 2021'\n",
      "'Thu Nov 04 18:53:35 +0000 2021'\n",
      "'Thu Nov 04 18:53:03 +0000 2021'\n",
      "'Thu Nov 04 18:34:23 +0000 2021'\n",
      "'Thu Nov 04 18:29:26 +0000 2021'\n",
      "'Thu Nov 04 17:54:44 +0000 2021'\n",
      "'Thu Nov 04 17:30:55 +0000 2021'\n",
      "'Thu Nov 04 17:20:52 +0000 2021'\n",
      "'Thu Nov 04 17:09:48 +0000 2021'\n",
      "'Thu Nov 04 17:05:44 +0000 2021'\n",
      "'Thu Nov 04 16:35:34 +0000 2021'\n",
      "'Thu Nov 04 16:35:32 +0000 2021'\n",
      "'Thu Nov 04 16:31:56 +0000 2021'\n",
      "'Thu Nov 04 16:28:51 +0000 2021'\n",
      "'Thu Nov 04 15:45:00 +0000 2021'\n",
      "'Thu Nov 04 15:36:20 +0000 2021'\n",
      "'Thu Nov 04 15:29:46 +0000 2021'\n",
      "'Thu Nov 04 15:15:46 +0000 2021'\n",
      "'Thu Nov 04 15:00:06 +0000 2021'\n",
      "'Thu Nov 04 14:58:37 +0000 2021'\n",
      "'Thu Nov 04 14:56:03 +0000 2021'\n",
      "'Thu Nov 04 14:55:11 +0000 2021'\n",
      "'Thu Nov 04 14:54:53 +0000 2021'\n",
      "'Thu Nov 04 14:49:13 +0000 2021'\n",
      "'Thu Nov 04 14:47:31 +0000 2021'\n",
      "'Thu Nov 04 14:41:20 +0000 2021'\n",
      "'Thu Nov 04 14:34:59 +0000 2021'\n",
      "'Thu Nov 04 14:30:42 +0000 2021'\n",
      "'Thu Nov 04 14:28:05 +0000 2021'\n",
      "'Thu Nov 04 13:54:34 +0000 2021'\n",
      "'Thu Nov 04 13:48:31 +0000 2021'\n",
      "'Thu Nov 04 13:39:19 +0000 2021'\n",
      "'Thu Nov 04 13:38:12 +0000 2021'\n",
      "'Thu Nov 04 13:30:28 +0000 2021'\n",
      "'Thu Nov 04 13:29:59 +0000 2021'\n",
      "'Thu Nov 04 13:24:43 +0000 2021'\n",
      "'Thu Nov 04 13:23:37 +0000 2021'\n",
      "'Thu Nov 04 13:01:01 +0000 2021'\n",
      "'Thu Nov 04 12:52:58 +0000 2021'\n",
      "'Thu Nov 04 12:47:19 +0000 2021'\n",
      "'Thu Nov 04 12:41:28 +0000 2021'\n",
      "'Thu Nov 04 12:38:49 +0000 2021'\n",
      "'Thu Nov 04 12:38:48 +0000 2021'\n",
      "'Thu Nov 04 12:24:09 +0000 2021'\n",
      "'Thu Nov 04 12:17:55 +0000 2021'\n",
      "'Thu Nov 04 12:11:42 +0000 2021'\n",
      "'Thu Nov 04 12:11:21 +0000 2021'\n",
      "'Thu Nov 04 11:47:54 +0000 2021'\n",
      "'Thu Nov 04 11:42:30 +0000 2021'\n",
      "'Thu Nov 04 11:36:58 +0000 2021'\n",
      "'Thu Nov 04 11:35:13 +0000 2021'\n",
      "'Thu Nov 04 11:10:03 +0000 2021'\n",
      "'Thu Nov 04 10:55:25 +0000 2021'\n",
      "'Thu Nov 04 10:20:00 +0000 2021'\n",
      "'Thu Nov 04 10:19:49 +0000 2021'\n",
      "'Thu Nov 04 10:08:10 +0000 2021'\n",
      "'Thu Nov 04 09:09:14 +0000 2021'\n",
      "'Thu Nov 04 08:18:12 +0000 2021'\n",
      "'Thu Nov 04 08:04:25 +0000 2021'\n",
      "'Thu Nov 04 08:04:00 +0000 2021'\n",
      "'Thu Nov 04 08:03:36 +0000 2021'\n",
      "'Thu Nov 04 08:03:15 +0000 2021'\n",
      "'Thu Nov 04 08:02:51 +0000 2021'\n",
      "'Thu Nov 04 05:43:10 +0000 2021'\n",
      "'Thu Nov 04 05:40:58 +0000 2021'\n",
      "'Thu Nov 04 05:32:33 +0000 2021'\n",
      "'Thu Nov 04 05:20:06 +0000 2021'\n",
      "'Thu Nov 04 05:19:26 +0000 2021'\n",
      "'Thu Nov 04 05:18:15 +0000 2021'\n",
      "'Thu Nov 04 05:16:35 +0000 2021'\n",
      "'Thu Nov 04 05:15:24 +0000 2021'\n",
      "'Thu Nov 04 05:10:06 +0000 2021'\n",
      "'Thu Nov 04 04:14:00 +0000 2021'\n",
      "'Thu Nov 04 04:06:12 +0000 2021'\n",
      "'Thu Nov 04 03:40:25 +0000 2021'\n",
      "'Thu Nov 04 03:32:53 +0000 2021'\n",
      "'Thu Nov 04 03:12:41 +0000 2021'\n",
      "'Thu Nov 04 03:03:56 +0000 2021'\n",
      "'Thu Nov 04 02:53:35 +0000 2021'\n",
      "'Thu Nov 04 02:30:52 +0000 2021'\n",
      "'Thu Nov 04 02:17:57 +0000 2021'\n",
      "'Thu Nov 04 02:11:35 +0000 2021'\n",
      "'Thu Nov 04 02:08:34 +0000 2021'\n",
      "'Thu Nov 04 02:08:01 +0000 2021'\n",
      "'Thu Nov 04 02:03:47 +0000 2021'\n",
      "'Thu Nov 04 01:40:04 +0000 2021'\n",
      "'Thu Nov 04 01:27:26 +0000 2021'\n",
      "'Thu Nov 04 01:22:40 +0000 2021'\n",
      "'Thu Nov 04 01:14:35 +0000 2021'\n",
      "'Thu Nov 04 01:12:47 +0000 2021'\n",
      "'Thu Nov 04 01:09:08 +0000 2021'\n",
      "'Thu Nov 04 01:09:06 +0000 2021'\n",
      "'Thu Nov 04 01:03:56 +0000 2021'\n",
      "'Thu Nov 04 01:01:51 +0000 2021'\n",
      "'Thu Nov 04 00:52:10 +0000 2021'\n",
      "'Thu Nov 04 00:49:50 +0000 2021'\n",
      "'Thu Nov 04 00:22:05 +0000 2021'\n",
      "'Thu Nov 04 00:20:06 +0000 2021'\n",
      "'Thu Nov 04 00:12:09 +0000 2021'\n",
      "'Thu Nov 04 00:05:51 +0000 2021'\n"
     ]
    }
   ],
   "source": [
    "search_results = rest_api.search.tweets( count=count,q=q, geocode=geocode) #you can use both q and geocode\n",
    "statuses = search_results[\"statuses\"]\n",
    "since_id_new = statuses[-1]['id']\n",
    "for statuse in statuses:\n",
    "    try:\n",
    "        tweet_collection.insert_one(statuse)\n",
    "        pprint(statuse['created_at'])# print the date of the collected tweets\n",
    "    except:\n",
    "        pass"
   ]
  },
  {
   "cell_type": "code",
   "execution_count": null,
   "id": "0ee2f06f",
   "metadata": {},
   "outputs": [],
   "source": []
  }
 ],
 "metadata": {
  "kernelspec": {
   "display_name": "conda_python3",
   "language": "python",
   "name": "conda_python3"
  },
  "language_info": {
   "codemirror_mode": {
    "name": "ipython",
    "version": 3
   },
   "file_extension": ".py",
   "mimetype": "text/x-python",
   "name": "python",
   "nbconvert_exporter": "python",
   "pygments_lexer": "ipython3",
   "version": "3.6.13"
  }
 },
 "nbformat": 4,
 "nbformat_minor": 5
}
